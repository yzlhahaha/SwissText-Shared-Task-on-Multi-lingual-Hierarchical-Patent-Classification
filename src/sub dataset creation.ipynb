{
 "cells": [
  {
   "cell_type": "code",
   "execution_count": 2,
   "metadata": {
    "Collapsed": "false",
    "colab": {
     "base_uri": "https://localhost:8080/",
     "height": 583
    },
    "colab_type": "code",
    "id": "DdKok0M3CCGn",
    "outputId": "63ed7cc1-0f88-4a3d-a82c-d1dabbef31ce"
   },
   "outputs": [
    {
     "data": {
      "text/plain": [
       "9223372036854775807"
      ]
     },
     "execution_count": 2,
     "metadata": {},
     "output_type": "execute_result"
    }
   ],
   "source": [
    "import pickle\n",
    "import html\n",
    "import html2text\n",
    "import os\n",
    "import json\n",
    "import logging\n",
    "import pickle\n",
    "import random\n",
    "import sys\n",
    "import time\n",
    "import warnings\n",
    "import nltk\n",
    "import csv\n",
    "import re\n",
    "import pandas as pd \n",
    "import numpy as np\n",
    "from polyglot.detect import Detector\n",
    "csv.field_size_limit(sys.maxsize)"
   ]
  },
  {
   "cell_type": "code",
   "execution_count": null,
   "metadata": {
    "Collapsed": "false"
   },
   "outputs": [],
   "source": [
    "def load_data_all():\n",
    "\n",
    "    #read ids, labels\n",
    "    prepath= \"\"\n",
    "    train_ids=[]\n",
    "    train_labels=[]\n",
    "    with open(prepath+\"Train.csv\", 'r', encoding=\"utf-8\") as f:\n",
    "            reader = csv.reader(f, delimiter=\"\\t\")\n",
    "            for i, line in enumerate(reader):\n",
    "                if i==0:\n",
    "                    continue\n",
    "                ids = line[0]\n",
    "                labels =line[1:]\n",
    "                train_ids.append(ids)\n",
    "                train_labels.append(labels)\n",
    "                \n",
    "    dev_ids=[]\n",
    "    dev_labels=[]\n",
    "    with open(prepath+\"Dev.csv\", 'r', encoding=\"utf-8\") as f:\n",
    "            reader = csv.reader(f, delimiter=\"\\t\")\n",
    "            for i, line in enumerate(reader):\n",
    "                if i==0:\n",
    "                    continue\n",
    "                ids = line[0]\n",
    "                dev_ids.append(ids)\n",
    "\n",
    "    # read title, abstract, description for the ids\n",
    "    x_train={}\n",
    "    x_dev= {}\n",
    "    TAG_RE = re.compile(r'<[^>]+>')\n",
    "    files=[prepath+\"patent_TITLE.csv\"]\n",
    "    for f1,fname in enumerate(files):\n",
    "         with open(fname, 'r', encoding=\"utf-8\") as f:\n",
    "             reader = csv.reader(f, delimiter=\"\\t\")\n",
    "             for i, line in enumerate(reader):\n",
    "                 if i==0:\n",
    "                     continue\n",
    "                 ids = line[0]\n",
    "                 for x in [(x_train,train_ids),(x_dev,dev_ids)]:\n",
    "                     if ids in x[1]:\n",
    "                         if f1<2:\n",
    "                             if ids in x[0]:\n",
    "                                 x[0][ids]+=\"\\n\\n \"+html2text.html2text(html.unescape(line[1]))\n",
    "                             else:\n",
    "                                 x[0][ids]=html2text.html2text(html.unescape(line[1]))\n",
    "                         else:\n",
    "                             if ids in x[0]:\n",
    "                                 x[0][ids]+=\"\\n\\n \"+TAG_RE.sub('', line[1])\n",
    "                             else:\n",
    "                                 x[0][ids]=TAG_RE.sub('', line[1])\n",
    "\n",
    "    x_train = [ x_train[tk] for tk  in train_ids if tk!=\"Labels\"]\n",
    "    x_dev = [ x_dev[tk] for tk  in dev_ids  if tk!=\"Labels\"]\n",
    "    \n",
    "    return train_ids, x_train, train_labels, dev_ids, x_dev, dev_labels"
   ]
  },
  {
   "cell_type": "code",
   "execution_count": 63,
   "metadata": {
    "Collapsed": "false"
   },
   "outputs": [],
   "source": [
    "# Get patent titles\n",
    "patent_titles = {}\n",
    "\n",
    "with open(\"patent_TITLE.csv\", 'r', encoding=\"utf-8\") as f:\n",
    "    reader = csv.reader(f, delimiter=\"\\t\")\n",
    "    for i in range(12): next(reader) # skip the header and the first 11 items\n",
    "    for i, line in enumerate(reader):\n",
    "        ID, title = line\n",
    "        title = html2text.html2text(html.unescape(title)).split(';')\n",
    "        title = [re.sub(r'\\n', ' ', x.rstrip()) for x in title if x != ''][:3] \n",
    "        patent_titles[ID] = title"
   ]
  },
  {
   "cell_type": "code",
   "execution_count": 95,
   "metadata": {
    "Collapsed": "false",
    "colab": {
     "base_uri": "https://localhost:8080/",
     "height": 35
    },
    "colab_type": "code",
    "id": "7hDARkndd4W3",
    "outputId": "39e893d7-5c6d-4f07-e112-b0948b19e67a"
   },
   "outputs": [
    {
     "data": {
      "text/plain": [
       "'de'"
      ]
     },
     "execution_count": 95,
     "metadata": {},
     "output_type": "execute_result"
    }
   ],
   "source": [
    "Detector(\"Verfahren und System zur Vermeidung der Ablenkung eines Fahrzeuginsassen\").language.code"
   ]
  },
  {
   "cell_type": "code",
   "execution_count": 3,
   "metadata": {
    "Collapsed": "false",
    "colab": {
     "base_uri": "https://localhost:8080/",
     "height": 183
    },
    "colab_type": "code",
    "id": "rj_dqJi_Nniq",
    "outputId": "23d4d686-7901-4802-b0e7-8ee813622c46"
   },
   "outputs": [],
   "source": [
    "with open('data/labeled_patent_data.json', 'r') as fp:\n",
    "    labeled_patent_data = json.load(fp)"
   ]
  },
  {
   "cell_type": "code",
   "execution_count": 4,
   "metadata": {
    "Collapsed": "false",
    "colab": {
     "base_uri": "https://localhost:8080/",
     "height": 183
    },
    "colab_type": "code",
    "id": "71APCcVqBJ9o",
    "outputId": "03c12fbc-6104-4444-b86d-677e12c723d4"
   },
   "outputs": [
    {
     "name": "stdout",
     "output_type": "stream",
     "text": [
      "286143\n",
      "<class 'dict'>\n"
     ]
    }
   ],
   "source": [
    "print(len(labeled_patent_data))\n",
    "print(type(labeled_patent_data))"
   ]
  },
  {
   "cell_type": "code",
   "execution_count": 66,
   "metadata": {
    "Collapsed": "false"
   },
   "outputs": [
    {
     "data": {
      "text/plain": [
       "3"
      ]
     },
     "execution_count": 66,
     "metadata": {},
     "output_type": "execute_result"
    }
   ],
   "source": [
    "len(patent_titles['3001431'])"
   ]
  },
  {
   "cell_type": "code",
   "execution_count": 96,
   "metadata": {
    "Collapsed": "false",
    "colab": {
     "base_uri": "https://localhost:8080/",
     "height": 35
    },
    "colab_type": "code",
    "id": "9Invn2IxdC9D",
    "outputId": "e31ef27e-40c9-4aa2-9583-e4a303c8a2c8"
   },
   "outputs": [
    {
     "name": "stderr",
     "output_type": "stream",
     "text": [
      "Detector is not able to detect the language reliably.\n",
      "Detector is not able to detect the language reliably.\n",
      "Detector is not able to detect the language reliably.\n",
      "Detector is not able to detect the language reliably.\n"
     ]
    },
    {
     "name": "stdout",
     "output_type": "stream",
     "text": [
      "Try passing a longer snippet of text\n",
      "de\n",
      "Description Error!\n"
     ]
    },
    {
     "name": "stderr",
     "output_type": "stream",
     "text": [
      "Detector is not able to detect the language reliably.\n",
      "Detector is not able to detect the language reliably.\n",
      "Detector is not able to detect the language reliably.\n",
      "Detector is not able to detect the language reliably.\n",
      "Detector is not able to detect the language reliably.\n",
      "Detector is not able to detect the language reliably.\n",
      "Detector is not able to detect the language reliably.\n",
      "Detector is not able to detect the language reliably.\n"
     ]
    },
    {
     "name": "stdout",
     "output_type": "stream",
     "text": [
      "Try passing a longer snippet of text\n",
      "de\n"
     ]
    },
    {
     "name": "stderr",
     "output_type": "stream",
     "text": [
      "Detector is not able to detect the language reliably.\n",
      "Detector is not able to detect the language reliably.\n",
      "Detector is not able to detect the language reliably.\n"
     ]
    },
    {
     "name": "stdout",
     "output_type": "stream",
     "text": [
      "Try passing a longer snippet of text\n",
      "en\n"
     ]
    },
    {
     "name": "stderr",
     "output_type": "stream",
     "text": [
      "Detector is not able to detect the language reliably.\n",
      "Detector is not able to detect the language reliably.\n",
      "Detector is not able to detect the language reliably.\n",
      "Detector is not able to detect the language reliably.\n",
      "Detector is not able to detect the language reliably.\n",
      "Detector is not able to detect the language reliably.\n",
      "Detector is not able to detect the language reliably.\n",
      "Detector is not able to detect the language reliably.\n",
      "Detector is not able to detect the language reliably.\n",
      "Detector is not able to detect the language reliably.\n",
      "Detector is not able to detect the language reliably.\n",
      "Detector is not able to detect the language reliably.\n"
     ]
    },
    {
     "name": "stdout",
     "output_type": "stream",
     "text": [
      "Try passing a longer snippet of text\n",
      "en\n"
     ]
    },
    {
     "name": "stderr",
     "output_type": "stream",
     "text": [
      "Detector is not able to detect the language reliably.\n"
     ]
    },
    {
     "name": "stdout",
     "output_type": "stream",
     "text": [
      "Description Error!\n",
      "Description Error!\n",
      "Description Error!\n",
      "Description Error!\n",
      "Description Error!\n",
      "Description Error!\n"
     ]
    },
    {
     "name": "stderr",
     "output_type": "stream",
     "text": [
      "Detector is not able to detect the language reliably.\n"
     ]
    },
    {
     "name": "stdout",
     "output_type": "stream",
     "text": [
      "Description Error!\n",
      "Description Error!\n",
      "Description Error!\n",
      "Description Error!\n",
      "Description Error!\n"
     ]
    },
    {
     "name": "stderr",
     "output_type": "stream",
     "text": [
      "Detector is not able to detect the language reliably.\n"
     ]
    },
    {
     "name": "stdout",
     "output_type": "stream",
     "text": [
      "Description Error!\n",
      "Description Error!\n",
      "Description Error!\n",
      "Description Error!\n",
      "Description Error!\n",
      "Description Error!\n",
      "Description Error!\n",
      "Description Error!\n",
      "Description Error!\n",
      "Description Error!\n",
      "Description Error!\n",
      "Description Error!\n",
      "Description Error!\n",
      "Description Error!\n",
      "Description Error!\n",
      "Description Error!\n",
      "Description Error!\n",
      "Description Error!\n",
      "Description Error!\n",
      "Description Error!\n",
      "Description Error!\n",
      "Description Error!\n",
      "Description Error!\n",
      "Description Error!\n",
      "Description Error!\n",
      "Description Error!\n",
      "Description Error!\n",
      "Description Error!\n",
      "Description Error!\n",
      "Description Error!\n",
      "Description Error!\n",
      "Description Error!\n"
     ]
    },
    {
     "name": "stderr",
     "output_type": "stream",
     "text": [
      "Detector is not able to detect the language reliably.\n",
      "Detector is not able to detect the language reliably.\n",
      "Detector is not able to detect the language reliably.\n",
      "Detector is not able to detect the language reliably.\n",
      "Detector is not able to detect the language reliably.\n",
      "Detector is not able to detect the language reliably.\n",
      "Detector is not able to detect the language reliably.\n",
      "Detector is not able to detect the language reliably.\n",
      "Detector is not able to detect the language reliably.\n",
      "Detector is not able to detect the language reliably.\n",
      "Detector is not able to detect the language reliably.\n",
      "Detector is not able to detect the language reliably.\n",
      "Detector is not able to detect the language reliably.\n"
     ]
    },
    {
     "name": "stdout",
     "output_type": "stream",
     "text": [
      "Try passing a longer snippet of text\n",
      "en\n"
     ]
    },
    {
     "name": "stderr",
     "output_type": "stream",
     "text": [
      "Detector is not able to detect the language reliably.\n",
      "Detector is not able to detect the language reliably.\n",
      "Detector is not able to detect the language reliably.\n"
     ]
    },
    {
     "name": "stdout",
     "output_type": "stream",
     "text": [
      "Try passing a longer snippet of text\n",
      "en\n",
      "Try passing a longer snippet of text\n",
      "fr\n"
     ]
    },
    {
     "name": "stderr",
     "output_type": "stream",
     "text": [
      "Detector is not able to detect the language reliably.\n",
      "Detector is not able to detect the language reliably.\n",
      "Detector is not able to detect the language reliably.\n",
      "Detector is not able to detect the language reliably.\n",
      "Detector is not able to detect the language reliably.\n",
      "Detector is not able to detect the language reliably.\n",
      "Detector is not able to detect the language reliably.\n",
      "Detector is not able to detect the language reliably.\n",
      "Detector is not able to detect the language reliably.\n",
      "Detector is not able to detect the language reliably.\n",
      "Detector is not able to detect the language reliably.\n",
      "Detector is not able to detect the language reliably.\n",
      "Detector is not able to detect the language reliably.\n"
     ]
    },
    {
     "name": "stdout",
     "output_type": "stream",
     "text": [
      "Try passing a longer snippet of text\n",
      "en\n"
     ]
    },
    {
     "name": "stderr",
     "output_type": "stream",
     "text": [
      "Detector is not able to detect the language reliably.\n",
      "Detector is not able to detect the language reliably.\n"
     ]
    },
    {
     "name": "stdout",
     "output_type": "stream",
     "text": [
      "Try passing a longer snippet of text\n",
      "en\n"
     ]
    },
    {
     "name": "stderr",
     "output_type": "stream",
     "text": [
      "Detector is not able to detect the language reliably.\n",
      "Detector is not able to detect the language reliably.\n",
      "Detector is not able to detect the language reliably.\n",
      "Detector is not able to detect the language reliably.\n",
      "Detector is not able to detect the language reliably.\n",
      "Detector is not able to detect the language reliably.\n",
      "Detector is not able to detect the language reliably.\n",
      "Detector is not able to detect the language reliably.\n",
      "Detector is not able to detect the language reliably.\n",
      "Detector is not able to detect the language reliably.\n",
      "Detector is not able to detect the language reliably.\n",
      "Detector is not able to detect the language reliably.\n",
      "Detector is not able to detect the language reliably.\n",
      "Detector is not able to detect the language reliably.\n",
      "Detector is not able to detect the language reliably.\n",
      "Detector is not able to detect the language reliably.\n",
      "Detector is not able to detect the language reliably.\n",
      "Detector is not able to detect the language reliably.\n",
      "Detector is not able to detect the language reliably.\n"
     ]
    },
    {
     "name": "stdout",
     "output_type": "stream",
     "text": [
      "Try passing a longer snippet of text\n",
      "fr\n"
     ]
    },
    {
     "name": "stderr",
     "output_type": "stream",
     "text": [
      "Detector is not able to detect the language reliably.\n"
     ]
    },
    {
     "name": "stdout",
     "output_type": "stream",
     "text": [
      "Try passing a longer snippet of text\n",
      "de\n"
     ]
    },
    {
     "name": "stderr",
     "output_type": "stream",
     "text": [
      "Detector is not able to detect the language reliably.\n",
      "Detector is not able to detect the language reliably.\n"
     ]
    },
    {
     "name": "stdout",
     "output_type": "stream",
     "text": [
      "Try passing a longer snippet of text\n",
      "en\n"
     ]
    },
    {
     "name": "stderr",
     "output_type": "stream",
     "text": [
      "Detector is not able to detect the language reliably.\n",
      "Detector is not able to detect the language reliably.\n",
      "Detector is not able to detect the language reliably.\n",
      "Detector is not able to detect the language reliably.\n",
      "Detector is not able to detect the language reliably.\n",
      "Detector is not able to detect the language reliably.\n",
      "Detector is not able to detect the language reliably.\n",
      "Detector is not able to detect the language reliably.\n",
      "Detector is not able to detect the language reliably.\n",
      "Detector is not able to detect the language reliably.\n",
      "Detector is not able to detect the language reliably.\n",
      "Detector is not able to detect the language reliably.\n",
      "Detector is not able to detect the language reliably.\n",
      "Detector is not able to detect the language reliably.\n",
      "Detector is not able to detect the language reliably.\n",
      "Detector is not able to detect the language reliably.\n",
      "Detector is not able to detect the language reliably.\n",
      "Detector is not able to detect the language reliably.\n",
      "Detector is not able to detect the language reliably.\n",
      "Detector is not able to detect the language reliably.\n",
      "Detector is not able to detect the language reliably.\n",
      "Detector is not able to detect the language reliably.\n",
      "Detector is not able to detect the language reliably.\n",
      "Detector is not able to detect the language reliably.\n",
      "Detector is not able to detect the language reliably.\n",
      "Detector is not able to detect the language reliably.\n"
     ]
    },
    {
     "name": "stdout",
     "output_type": "stream",
     "text": [
      "Try passing a longer snippet of text\n",
      "en\n"
     ]
    },
    {
     "name": "stderr",
     "output_type": "stream",
     "text": [
      "Detector is not able to detect the language reliably.\n",
      "Detector is not able to detect the language reliably.\n",
      "Detector is not able to detect the language reliably.\n",
      "Detector is not able to detect the language reliably.\n"
     ]
    },
    {
     "name": "stdout",
     "output_type": "stream",
     "text": [
      "Try passing a longer snippet of text\n",
      "en\n"
     ]
    },
    {
     "name": "stderr",
     "output_type": "stream",
     "text": [
      "Detector is not able to detect the language reliably.\n",
      "Detector is not able to detect the language reliably.\n",
      "Detector is not able to detect the language reliably.\n"
     ]
    },
    {
     "name": "stdout",
     "output_type": "stream",
     "text": [
      "Try passing a longer snippet of text\n",
      "en\n"
     ]
    },
    {
     "name": "stderr",
     "output_type": "stream",
     "text": [
      "Detector is not able to detect the language reliably.\n",
      "Detector is not able to detect the language reliably.\n",
      "Detector is not able to detect the language reliably.\n",
      "Detector is not able to detect the language reliably.\n",
      "Detector is not able to detect the language reliably.\n",
      "Detector is not able to detect the language reliably.\n",
      "Detector is not able to detect the language reliably.\n",
      "Detector is not able to detect the language reliably.\n",
      "Detector is not able to detect the language reliably.\n",
      "Detector is not able to detect the language reliably.\n",
      "Detector is not able to detect the language reliably.\n",
      "Detector is not able to detect the language reliably.\n"
     ]
    }
   ],
   "source": [
    "dePatents = {}\n",
    "enPatents = {}\n",
    "frPatents = {}\n",
    "\n",
    "for i in labeled_patent_data:\n",
    "    ID = i\n",
    "    item = labeled_patent_data[i]\n",
    "    titles = patent_titles[i]\n",
    " \n",
    "    try:\n",
    "        des = item['description']\n",
    "    except:\n",
    "        print(\"Description Error!\")\n",
    "        des = ''\n",
    "        \n",
    "    if des != '':\n",
    "        try:\n",
    "            detect = Detector(des)\n",
    "            if detect.reliable:\n",
    "                lang = detect.language.code\n",
    "                item['id'] = i\n",
    "                if lang == 'de':\n",
    "                    item['title'] = titles[0]\n",
    "                    dePatents[i] = item\n",
    "                elif lang == 'en':\n",
    "                    item['title'] = titles[1]\n",
    "                    enPatents[i] = item\n",
    "                elif lang == 'fr':\n",
    "                    item['title'] = titles[2]\n",
    "                    frPatents[i] = item\n",
    "        except:\n",
    "            print(\"Try passing a longer snippet of text\")\n",
    "            print(lang)\n"
   ]
  },
  {
   "cell_type": "code",
   "execution_count": 97,
   "metadata": {
    "Collapsed": "false"
   },
   "outputs": [
    {
     "name": "stdout",
     "output_type": "stream",
     "text": [
      "213344\n",
      "59513\n",
      "13096\n",
      "285953\n"
     ]
    }
   ],
   "source": [
    "print(len(enPatents))\n",
    "print(len(dePatents))\n",
    "print(len(frPatents))\n",
    "print(len(enPatents)+len(dePatents)+len(frPatents))"
   ]
  },
  {
   "cell_type": "code",
   "execution_count": 111,
   "metadata": {
    "Collapsed": "false"
   },
   "outputs": [
    {
     "name": "stdout",
     "output_type": "stream",
     "text": [
      "213340\n"
     ]
    }
   ],
   "source": [
    "tenth = len(enPatents)//10\n",
    "enPatents_list = []\n",
    "num = 0\n",
    "for i in range(10):\n",
    "    enPatents_entry = dict(list(enPatents.items())[tenth*i : tenth*(i+1)])\n",
    "    enPatents_list.append(enPatents_entry)\n",
    "    num += len(enPatents_entry)\n",
    "\n",
    "print(num)"
   ]
  },
  {
   "cell_type": "code",
   "execution_count": 98,
   "metadata": {
    "Collapsed": "false"
   },
   "outputs": [],
   "source": [
    "with open('en_patent_data.json', 'w') as fp:\n",
    "    json.dump(enPatents, fp)"
   ]
  },
  {
   "cell_type": "code",
   "execution_count": 99,
   "metadata": {
    "Collapsed": "false"
   },
   "outputs": [],
   "source": [
    "with open('de_patent_data.json', 'w') as fp:\n",
    "    json.dump(dePatents, fp)"
   ]
  },
  {
   "cell_type": "code",
   "execution_count": 100,
   "metadata": {
    "Collapsed": "false"
   },
   "outputs": [],
   "source": [
    "with open('fr_patent_data.json', 'w') as fp:\n",
    "    json.dump(frPatents, fp)"
   ]
  },
  {
   "cell_type": "code",
   "execution_count": 114,
   "metadata": {
    "Collapsed": "false"
   },
   "outputs": [],
   "source": [
    "num = 1\n",
    "for i in enPatents_list:\n",
    "    filename = 'patent_json/en_patent_data_parts/en_patent_part_' + str(num) +'.json'\n",
    "    with open(filename,'w') as fp:\n",
    "        json.dump(i, fp)\n",
    "    num += 1"
   ]
  }
 ],
 "metadata": {
  "accelerator": "GPU",
  "colab": {
   "collapsed_sections": [],
   "machine_shape": "hm",
   "name": "Untitled7.ipynb",
   "provenance": []
  },
  "kernelspec": {
   "display_name": "Python 3",
   "language": "python",
   "name": "python3"
  },
  "language_info": {
   "codemirror_mode": {
    "name": "ipython",
    "version": 3
   },
   "file_extension": ".py",
   "mimetype": "text/x-python",
   "name": "python",
   "nbconvert_exporter": "python",
   "pygments_lexer": "ipython3",
   "version": "3.6.9"
  }
 },
 "nbformat": 4,
 "nbformat_minor": 4
}
